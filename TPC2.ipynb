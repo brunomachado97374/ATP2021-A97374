{
 "cells": [
  {
   "cell_type": "markdown",
   "id": "bbaefdc8",
   "metadata": {},
   "source": [
    "# Jogo \"Adivinha o número\""
   ]
  },
  {
   "cell_type": "markdown",
   "id": "816c2347",
   "metadata": {},
   "source": [
    "**Keyname**: TPC 2  \n",
    "**Título**: Adivinha   \n",
    "**Data de início:** 2020/10/14   \n",
    "**Data de fim:** 2020/10/21  \n",
    "**Supervisor:** [José Carlos Leite Ramalho](https://algoritmi.uminho.pt/user/jose-carlos-leite-ramalho/)  \n",
    "**Autor:** Bruno Miguel Gonçalves Machado, A97374  \n",
    "**Resumo:** O jogo consiste em o jogador escolhe um número inteiro de 0 a 100, onde o computador tenta adivinhá-lo com as indicações *cima* ou *baixo*. Quando o número sugerido pelo computador for o correto, o jogador responde *sim*.\n",
    "\n"
   ]
  },
  {
   "cell_type": "code",
   "execution_count": null,
   "id": "9d3b439d",
   "metadata": {},
   "outputs": [
    {
     "name": "stdout",
     "output_type": "stream",
     "text": [
      "Pense num número inteiro de 0 a 100\n"
     ]
    }
   ],
   "source": [
    "def adivinha_numero():\n",
    "    n_pos=range(0,101)\n",
    "    número_jogadas=0\n",
    "    print(\"Pense num número inteiro de 0 a 100\")\n",
    "    \n",
    "    while número_jogadas< 8:\n",
    "        n=round(len(n_pos)/2)\n",
    "        variavel=input(\"O número é \" + str(n_pos[n]) + \"? (sim, cima, baixo)\\n\")\n",
    "        \n",
    "        if variavel==\"sim\":\n",
    "            print(\"O seu número foi encontrado. É o \" + str(n_pos[n]))\n",
    "            break\n",
    "                       \n",
    "        if variavel==\"cima\":\n",
    "            n_pos=n_pos[n:n_pos[-1]]\n",
    "            número_jogadas+=1\n",
    "                \n",
    "        elif variavel==\"baixo\":\n",
    "            n_pos=n_pos[0:n]\n",
    "            número_jogadas+=1\n",
    "\n",
    "        else:\n",
    "            print(\"Deve inserir: sim, cima ou baixo!\")\n",
    "            \n",
    "adivinha_numero()\n",
    "                       \n",
    "                       \n",
    "              \n",
    "        \n",
    "        \n",
    "        "
   ]
  },
  {
   "cell_type": "code",
   "execution_count": null,
   "id": "78c910dd",
   "metadata": {},
   "outputs": [],
   "source": []
  }
 ],
 "metadata": {
  "kernelspec": {
   "display_name": "Python 3",
   "language": "python",
   "name": "python3"
  },
  "language_info": {
   "codemirror_mode": {
    "name": "ipython",
    "version": 3
   },
   "file_extension": ".py",
   "mimetype": "text/x-python",
   "name": "python",
   "nbconvert_exporter": "python",
   "pygments_lexer": "ipython3",
   "version": "3.8.8"
  }
 },
 "nbformat": 4,
 "nbformat_minor": 5
}
