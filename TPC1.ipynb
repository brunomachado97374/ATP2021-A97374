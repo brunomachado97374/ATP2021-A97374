{
 "cells": [
  {
   "cell_type": "code",
   "execution_count": null,
   "id": "4747bdca",
   "metadata": {
    "scrolled": true
   },
   "outputs": [],
   "source": [
    "# -*- coding: utf-8 -*-\n",
    "\n",
    "from random import randint\n",
    "def jogo_fosforos():\n",
    "    jogador=int(input(\"Quer ser o jogador 1 ou 2?\\n\"))\n",
    "    \n",
    "    if jogador !=1 and jogador !=2:\n",
    "        print(\"Jogador selecionado não válido\")\n",
    "    else:\n",
    "        jogada=0\n",
    "        n_fosforos=21\n",
    "        possiveis_jogadas=[1,2,3,4]\n",
    "        lista_melhores_jogadas=[1,6,11,16,21]\n",
    "        vencedor=None\n",
    "        \n",
    "        while n_fosforos>1:\n",
    "            if jogador==1:\n",
    "                jogada=int(input(\"Quantos fósforos quer retirar? 1,2,3,4\\n\"))\n",
    "                \n",
    "                if jogada not in possiveis_jogadas:\n",
    "                    print(\"A jogada realizada não é válida.\")\n",
    "                else:\n",
    "                    jogada_computador=5-jogada\n",
    "                    n_fosforos-=5\n",
    "                    print(\"O computador retirou \"+ str(jogada_computador) + \" fósforos. Sobram \" + str(n_fosforos) + \" fósforos \\n\")\n",
    "                    vencedor=\"Jogador 2\"\n",
    "                    \n",
    "            else:\n",
    "                tamanho=len(possiveis_jogadas)\n",
    "                i=0\n",
    "                melhor_jogada=randint(1,4)\n",
    "                \n",
    "                while i<tamanho:\n",
    "                    calc=n_fosforos-possiveis_jogadas[i]\n",
    "                    if calc in lista_melhores_jogadas:\n",
    "                        melhor_jogada=possiveis_jogadas[i]\n",
    "                        break   \n",
    "                    i+=1\n",
    "                    \n",
    "                n_fosforos-=melhor_jogada\n",
    "                print(\"O computador retirou \"+ str(melhor_jogada) + \" fósforos. Sobram \" + str(n_fosforos) + \" fósforos \\n\")\n",
    "                vencedor=\"Jogador 1\"\n",
    "                if n_fosforos>1:\n",
    "                    jogada=int(input(\"Quantos fósforos quer retirar? 1,2,3,4\\n\"))\n",
    "                \n",
    "                    if jogada not in possiveis_jogadas:\n",
    "                        return -1\n",
    "                    else:\n",
    "                        n_fosforos-=jogada\n",
    "                        vencedor= \"Jogador 2\"\n",
    "        \n",
    "        print(\"O vencedor é: \", vencedor)            \n",
    "                    \n",
    "                    \n",
    "\n",
    "jogo_fosforos()"
   ]
  },
  {
   "cell_type": "code",
   "execution_count": null,
   "id": "446c3d22",
   "metadata": {},
   "outputs": [],
   "source": []
  }
 ],
 "metadata": {
  "kernelspec": {
   "display_name": "Python 3",
   "language": "python",
   "name": "python3"
  },
  "language_info": {
   "codemirror_mode": {
    "name": "ipython",
    "version": 3
   },
   "file_extension": ".py",
   "mimetype": "text/x-python",
   "name": "python",
   "nbconvert_exporter": "python",
   "pygments_lexer": "ipython3",
   "version": "3.8.8"
  }
 },
 "nbformat": 4,
 "nbformat_minor": 5
}
