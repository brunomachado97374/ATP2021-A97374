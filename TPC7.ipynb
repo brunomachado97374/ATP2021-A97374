{
 "cells": [
  {
   "cell_type": "markdown",
   "id": "0f6601bf",
   "metadata": {},
   "source": [
    "# Processamento de datasets"
   ]
  },
  {
   "cell_type": "markdown",
   "id": "6438a26b",
   "metadata": {},
   "source": [
    "**Keyname**: TPC 7     \n",
    "**Título**: Processamento de datasets   \n",
    "**Data de início:** 2021/11/25        \n",
    "**Data de fim:** 2021/12/02    \n",
    "**Supervisor:** [José Carlos Leite Ramalho](https://algoritmi.uminho.pt/user/jose-carlos-leite-ramalho/)  \n",
    "**Autor:** Bruno Miguel Gonçalves Machado, A97374   \n",
    "**Resumo:** Este trabalho denominado *processamento de datasets*, consiste num conjunto de funções que fazem a leitura de datasets; o seu processamento nomeadamente: *consulta de dataset*, *top10 melhores alunos*, *distribuição por curso*, *distribuição por médias*; e a produção de dados estatísticos, como os gráficos das distribuições dos cursos e médias. Este programa está escrito em **python**."
   ]
  },
  {
   "cell_type": "markdown",
   "id": "47883f89",
   "metadata": {},
   "source": [
    "## Dataset\n",
    "\n",
    "Para a resolução dos exercícios desta ficha, descarrega o dataset de alunos do site da UC.\n",
    "\n",
    "### Estrutura do dataset\n",
    "O dataset tem a seguinte estrutura:\n",
    "\n",
    "```\n",
    "id_aluno,nome,curso,tpc1,tpc2,tpc3,tpc4\n",
    "\"a1\",\"Aysha Melanie Gilberto\",\"LEI\",12,8,19,8\n",
    "\"a2\",\"Igor André Cantanhede\",\"ENGFIS\",12,16,18,20\n",
    "\"a3\",\"Laurénio Narciso\",\"ENGFIS\",8,14,15,14\n",
    "\"a4\",\"Jasnoor Casegas\",\"LCC\",14,20,17,11\n",
    "\"a5\",\"Tawseef Rebouças\",\"ENGBIOM\",13,14,13,17\n",
    "\"a6\",\"Eryk Clementino\",\"LEI\",10,19,11,14\n",
    "...\n",
    "```"
   ]
  },
  {
   "cell_type": "code",
   "execution_count": 1,
   "id": "a5151a9b",
   "metadata": {
    "scrolled": true
   },
   "outputs": [
    {
     "name": "stdout",
     "output_type": "stream",
     "text": [
      "[{'id': '\"a1\"', 'nome': '\"Aysha Melanie Gilberto\"', 'curso': '\"LEI\"', 'tpc': [12, 8, 19, 8]}, {'id': '\"a2\"', 'nome': '\"Igor André Cantanhede\"', 'curso': '\"ENGFIS\"', 'tpc': [12, 16, 18, 20]}, {'id': '\"a3\"', 'nome': '\"Laurénio Narciso\"', 'curso': '\"ENGFIS\"', 'tpc': [8, 14, 15, 14]}, {'id': '\"a4\"', 'nome': '\"Jasnoor Casegas\"', 'curso': '\"LCC\"', 'tpc': [14, 20, 17, 11]}, {'id': '\"a5\"', 'nome': '\"Tawseef Rebouças\"', 'curso': '\"ENGBIOM\"', 'tpc': [13, 14, 13, 17]}, {'id': '\"a6\"', 'nome': '\"Eryk Clementino\"', 'curso': '\"LEI\"', 'tpc': [10, 19, 11, 14]}, {'id': '\"a7\"', 'nome': '\"Ianna Noivo\"', 'curso': '\"ENGBIOM\"', 'tpc': [15, 15, 17, 16]}, {'id': '\"a8\"', 'nome': '\"Ayla Thaissa Reina\"', 'curso': '\"ENGBIOM\"', 'tpc': [12, 8, 8, 18]}, {'id': '\"a9\"', 'nome': '\"Cássia Viviane Coitã\"', 'curso': '\"ENGFIS\"', 'tpc': [19, 9, 14, 10]}, {'id': '\"a10\"', 'nome': '\"Koby Vindima\"', 'curso': '\"LEI\"', 'tpc': [9, 14, 20, 13]}, {'id': '\"a11\"', 'nome': '\"Gustavo Martim Hernandez\"', 'curso': '\"ENGBIOM\"', 'tpc': [11, 8, 14, 11]}, {'id': '\"a12\"', 'nome': '\"Siddarta Beiriz\"', 'curso': '\"LEI\"', 'tpc': [17, 10, 16, 16]}, {'id': '\"a13\"', 'nome': '\"Daniela Patrícia Montes\"', 'curso': '\"ENGBIOM\"', 'tpc': [15, 15, 18, 19]}, {'id': '\"a14\"', 'nome': '\"Kaylla Pessego\"', 'curso': '\"LCC\"', 'tpc': [10, 14, 17, 15]}, {'id': '\"a15\"', 'nome': '\"Bianca Cristina Primitivo\"', 'curso': '\"ENGBIOM\"', 'tpc': [16, 9, 18, 10]}, {'id': '\"a16\"', 'nome': '\"Magna Galhardo\"', 'curso': '\"ENGFIS\"', 'tpc': [20, 18, 9, 14]}, {'id': '\"a17\"', 'nome': '\"Grace Isabel Patriarca\"', 'curso': '\"LCC\"', 'tpc': [19, 13, 9, 10]}, {'id': '\"a18\"', 'nome': '\"Saubhagya Buco\"', 'curso': '\"LEI\"', 'tpc': [18, 18, 17, 8]}, {'id': '\"a19\"', 'nome': '\"Ivo Vicente Boisa\"', 'curso': '\"ENGBIOM\"', 'tpc': [14, 10, 18, 13]}, {'id': '\"a20\"', 'nome': '\"Vivaan Castilhos\"', 'curso': '\"ENGFIS\"', 'tpc': [15, 14, 11, 12]}, {'id': '\"a21\"', 'nome': '\"Layana Camejo\"', 'curso': '\"ENGFIS\"', 'tpc': [17, 12, 10, 20]}, {'id': '\"a22\"', 'nome': '\"Mahdi Menoita\"', 'curso': '\"ENGFIS\"', 'tpc': [11, 16, 8, 16]}, {'id': '\"a23\"', 'nome': '\"Yifan Cortinado\"', 'curso': '\"LEI\"', 'tpc': [19, 16, 8, 18]}, {'id': '\"a24\"', 'nome': '\"Éder Sodré\"', 'curso': '\"ENGFIS\"', 'tpc': [17, 13, 14, 12]}, {'id': '\"a25\"', 'nome': '\"Dhriti Magano\"', 'curso': '\"ENGFIS\"', 'tpc': [19, 11, 8, 19]}, {'id': '\"a26\"', 'nome': '\"Steve Devesa\"', 'curso': '\"ENGBIOM\"', 'tpc': [10, 16, 8, 13]}, {'id': '\"a27\"', 'nome': '\"Lisandro Mariano Picassinos\"', 'curso': '\"ENGFIS\"', 'tpc': [13, 10, 16, 10]}, {'id': '\"a28\"', 'nome': '\"Itiel Quinoy\"', 'curso': '\"LEI\"', 'tpc': [18, 18, 8, 9]}, {'id': '\"a29\"', 'nome': '\"Pranika Reimoo\"', 'curso': '\"LEI\"', 'tpc': [12, 16, 15, 13]}, {'id': '\"a30\"', 'nome': '\"Manaia Viseu\"', 'curso': '\"ENGFIS\"', 'tpc': [8, 12, 20, 11]}, {'id': '\"a31\"', 'nome': '\"Eva Manuel Caio\"', 'curso': '\"ENGFIS\"', 'tpc': [12, 16, 20, 16]}, {'id': '\"a32\"', 'nome': '\"Ariane Sofia Foja\"', 'curso': '\"LEI\"', 'tpc': [20, 19, 13, 18]}, {'id': '\"a33\"', 'nome': '\"Jaime António Pauseiro\"', 'curso': '\"LCC\"', 'tpc': [19, 13, 8, 10]}, {'id': '\"a34\"', 'nome': '\"Tanisha Marzagoo\"', 'curso': '\"ENGBIOM\"', 'tpc': [14, 19, 13, 14]}, {'id': '\"a35\"', 'nome': '\"Siyon Anca\"', 'curso': '\"LEI\"', 'tpc': [8, 13, 19, 15]}, {'id': '\"a36\"', 'nome': '\"Diana Beatriz Boavista\"', 'curso': '\"LCC\"', 'tpc': [19, 18, 17, 12]}, {'id': '\"a37\"', 'nome': '\"Elisiário Saberio\"', 'curso': '\"ENGFIS\"', 'tpc': [18, 18, 10, 19]}, {'id': '\"a38\"', 'nome': '\"Maira Brites\"', 'curso': '\"ENGFIS\"', 'tpc': [13, 16, 15, 17]}, {'id': '\"a39\"', 'nome': '\"Victória Gabriela Incenso\"', 'curso': '\"LEI\"', 'tpc': [17, 14, 13, 8]}, {'id': '\"a40\"', 'nome': '\"Najua Serôdio\"', 'curso': '\"LCC\"', 'tpc': [17, 9, 16, 18]}, {'id': '\"a41\"', 'nome': '\"Lachezar Rosas\"', 'curso': '\"ENGBIOM\"', 'tpc': [16, 18, 18, 15]}, {'id': '\"a42\"', 'nome': '\"Kattleya Trigueiro\"', 'curso': '\"ENGFIS\"', 'tpc': [19, 16, 14, 15]}, {'id': '\"a43\"', 'nome': '\"Tatiana Guiomar Maricoto\"', 'curso': '\"LCC\"', 'tpc': [19, 8, 15, 11]}, {'id': '\"a44\"', 'nome': '\"Mélanie Daniela Bugalhão\"', 'curso': '\"LCC\"', 'tpc': [17, 9, 17, 18]}, {'id': '\"a45\"', 'nome': '\"Imayame Hespanha\"', 'curso': '\"ENGFIS\"', 'tpc': [20, 17, 19, 11]}, {'id': '\"a46\"', 'nome': '\"Yuri Gabriel Baganha\"', 'curso': '\"LCC\"', 'tpc': [15, 18, 12, 16]}, {'id': '\"a47\"', 'nome': '\"Moisés João Cornelio\"', 'curso': '\"LEI\"', 'tpc': [20, 16, 19, 17]}, {'id': '\"a48\"', 'nome': '\"Nazir Assif Trinta\"', 'curso': '\"LEI\"', 'tpc': [14, 14, 12, 8]}, {'id': '\"a49\"', 'nome': '\"Karamjot Arezes\"', 'curso': '\"LEI\"', 'tpc': [10, 9, 20, 12]}, {'id': '\"a50\"', 'nome': '\"Rishit Justa\"', 'curso': '\"ENGBIOM\"', 'tpc': [9, 9, 9, 12]}, {'id': '\"a51\"', 'nome': '\"Iara de Jesus Gonçalo\"', 'curso': '\"ENGFIS\"', 'tpc': [14, 8, 12, 14]}, {'id': '\"a52\"', 'nome': '\"Stepfan Owusu Lercas\"', 'curso': '\"LEI\"', 'tpc': [18, 9, 16, 14]}, {'id': '\"a53\"', 'nome': '\"Abner Umbelina\"', 'curso': '\"ENGBIOM\"', 'tpc': [20, 16, 10, 13]}, {'id': '\"a54\"', 'nome': '\"Dânia Lucy Montelobo\"', 'curso': '\"LEI\"', 'tpc': [18, 19, 15, 11]}, {'id': '\"a55\"', 'nome': '\"Myla Lopez\"', 'curso': '\"ENGFIS\"', 'tpc': [9, 17, 12, 20]}, {'id': '\"a56\"', 'nome': '\"Hakeem Brazão\"', 'curso': '\"LEI\"', 'tpc': [18, 18, 13, 20]}, {'id': '\"a57\"', 'nome': '\"Quinn Aveiro\"', 'curso': '\"ENGBIOM\"', 'tpc': [17, 16, 9, 13]}, {'id': '\"a58\"', 'nome': '\"Etienne Constentino\"', 'curso': '\"ENGBIOM\"', 'tpc': [15, 8, 9, 13]}, {'id': '\"a59\"', 'nome': '\"Emanuel Marcos Delfina\"', 'curso': '\"LEI\"', 'tpc': [9, 15, 8, 13]}, {'id': '\"a60\"', 'nome': '\"Mariana Catarina Ramalheira\"', 'curso': '\"ENGBIOM\"', 'tpc': [17, 19, 19, 11]}, {'id': '\"a61\"', 'nome': '\"Bradley Tabau\"', 'curso': '\"LCC\"', 'tpc': [16, 19, 16, 12]}, {'id': '\"a62\"', 'nome': '\"Ahmadou Bamba Calcinha\"', 'curso': '\"LCC\"', 'tpc': [13, 20, 8, 16]}, {'id': '\"a63\"', 'nome': '\"Francisco Pedro Derresa\"', 'curso': '\"ENGFIS\"', 'tpc': [8, 12, 20, 18]}, {'id': '\"a64\"', 'nome': '\"Gil Miguel Lima\"', 'curso': '\"ENGBIOM\"', 'tpc': [16, 19, 8, 14]}, {'id': '\"a65\"', 'nome': '\"Leonor Pedro Carqueijeiro\"', 'curso': '\"ENGBIOM\"', 'tpc': [19, 11, 17, 8]}, {'id': '\"a66\"', 'nome': '\"Genrikh Maximovich Vila-Chã\"', 'curso': '\"ENGFIS\"', 'tpc': [12, 15, 13, 9]}, {'id': '\"a67\"', 'nome': '\"Mayra Larissa Rolo\"', 'curso': '\"LCC\"', 'tpc': [15, 14, 17, 12]}, {'id': '\"a68\"', 'nome': '\"Leandro David Dunhoo\"', 'curso': '\"ENGBIOM\"', 'tpc': [15, 14, 11, 15]}, {'id': '\"a69\"', 'nome': '\"Adele Belchior\"', 'curso': '\"ENGBIOM\"', 'tpc': [17, 12, 20, 12]}, {'id': '\"a70\"', 'nome': '\"Frantceska Borreca\"', 'curso': '\"ENGFIS\"', 'tpc': [18, 11, 19, 8]}, {'id': '\"a71\"', 'nome': '\"Derrick Urias\"', 'curso': '\"ENGFIS\"', 'tpc': [11, 10, 8, 14]}, {'id': '\"a72\"', 'nome': '\"Ana Gabriel Quirino\"', 'curso': '\"LCC\"', 'tpc': [10, 17, 8, 19]}, {'id': '\"a73\"', 'nome': '\"Carolina Antoo\"', 'curso': '\"ENGBIOM\"', 'tpc': [16, 19, 20, 10]}, {'id': '\"a74\"', 'nome': '\"Vânia Sofia Porfirio\"', 'curso': '\"ENGBIOM\"', 'tpc': [18, 19, 18, 15]}, {'id': '\"a75\"', 'nome': '\"Dárcio Wosvaldo Tudela\"', 'curso': '\"LEI\"', 'tpc': [8, 18, 9, 18]}, {'id': '\"a76\"', 'nome': '\"Zhara Couxão\"', 'curso': '\"ENGFIS\"', 'tpc': [16, 10, 14, 12]}, {'id': '\"a77\"', 'nome': '\"Tomé Ferrito\"', 'curso': '\"LCC\"', 'tpc': [14, 10, 15, 19]}, {'id': '\"a78\"', 'nome': '\"Iasmin Paloma Chaveiro\"', 'curso': '\"LCC\"', 'tpc': [8, 15, 19, 9]}, {'id': '\"a79\"', 'nome': '\"Sadagi Cruto\"', 'curso': '\"ENGBIOM\"', 'tpc': [13, 18, 14, 18]}, {'id': '\"a80\"', 'nome': '\"Maria Carolina Josué\"', 'curso': '\"ENGFIS\"', 'tpc': [17, 20, 17, 18]}, {'id': '\"a81\"', 'nome': '\"Quaresma Lancastre\"', 'curso': '\"ENGBIOM\"', 'tpc': [17, 9, 16, 19]}, {'id': '\"a82\"', 'nome': '\"Evaldir Gervasio\"', 'curso': '\"ENGFIS\"', 'tpc': [16, 19, 15, 8]}, {'id': '\"a83\"', 'nome': '\"Dolorinda Adolfo\"', 'curso': '\"ENGFIS\"', 'tpc': [11, 20, 16, 8]}, {'id': '\"a84\"', 'nome': '\"Laudário Frasão\"', 'curso': '\"LCC\"', 'tpc': [20, 19, 10, 19]}, {'id': '\"a85\"', 'nome': '\"Rómula Jeronimo\"', 'curso': '\"ENGFIS\"', 'tpc': [10, 13, 12, 11]}, {'id': '\"a86\"', 'nome': '\"Clésio Rodeiro\"', 'curso': '\"LCC\"', 'tpc': [9, 13, 12, 18]}, {'id': '\"a87\"', 'nome': '\"Feliciano José Avis\"', 'curso': '\"ENGFIS\"', 'tpc': [9, 11, 10, 9]}, {'id': '\"a88\"', 'nome': '\"Afonso Adriano Marca\"', 'curso': '\"ENGBIOM\"', 'tpc': [8, 16, 12, 15]}, {'id': '\"a89\"', 'nome': '\"Victória Miguel Rosete\"', 'curso': '\"ENGFIS\"', 'tpc': [8, 13, 13, 18]}, {'id': '\"a90\"', 'nome': '\"Tome Teroso\"', 'curso': '\"ENGFIS\"', 'tpc': [9, 9, 10, 17]}, {'id': '\"a91\"', 'nome': '\"Constança Filipa Melado\"', 'curso': '\"LEI\"', 'tpc': [10, 12, 8, 20]}, {'id': '\"a92\"', 'nome': '\"Madalena Jesus Alfaiate\"', 'curso': '\"LEI\"', 'tpc': [17, 14, 9, 17]}, {'id': '\"a93\"', 'nome': '\"Bivhan Reimbau\"', 'curso': '\"LCC\"', 'tpc': [17, 11, 8, 12]}, {'id': '\"a94\"', 'nome': '\"Viviana Sofia Gaspar\"', 'curso': '\"ENGBIOM\"', 'tpc': [16, 16, 20, 14]}, {'id': '\"a95\"', 'nome': '\"Íris Soraia Chiote\"', 'curso': '\"LEI\"', 'tpc': [11, 11, 17, 16]}, {'id': '\"a96\"', 'nome': '\"Anaïs Sintra\"', 'curso': '\"LCC\"', 'tpc': [19, 19, 12, 9]}, {'id': '\"a97\"', 'nome': '\"Salvador Banaca\"', 'curso': '\"LCC\"', 'tpc': [12, 9, 20, 12]}, {'id': '\"a98\"', 'nome': '\"Guilherme Matias Almeirão\"', 'curso': '\"ENGFIS\"', 'tpc': [14, 9, 12, 11]}, {'id': '\"a99\"', 'nome': '\"Xavier Luís Bulha\"', 'curso': '\"ENGFIS\"', 'tpc': [17, 13, 8, 10]}, {'id': '\"a100\"', 'nome': '\"Tude Searas\"', 'curso': '\"LEI\"', 'tpc': [20, 17, 8, 14]}]\n"
     ]
    }
   ],
   "source": [
    "# Leitura/carregamento da informação do ficheiro\n",
    "def lerDataset(fnome):\n",
    "    bd= []\n",
    "    f = open(fnome, encoding='utf-8')\n",
    "    f.readline() #o readline faz avançar uma linha, assim quando linha entra no ciclo já entra da segunda linha para a frente\n",
    "    for linha in f:\n",
    "        novaLinha= linha.replace(\"\\n\",\"\")\n",
    "        campos= linha.split(\",\")\n",
    "        aluno= {}\n",
    "        aluno['id']= campos[0]\n",
    "        aluno['nome']= campos[1]\n",
    "        aluno['curso']=campos[2]\n",
    "        listaTPC=[]\n",
    "        for tpc in campos[3:]: \n",
    "            listaTPC.append(int(tpc))\n",
    "        aluno['tpc']=listaTPC\n",
    "        bd.append(aluno)\n",
    "        for tp in aluno['tpc']:\n",
    "            tp\n",
    "                      \n",
    "    \n",
    "    return bd              \n",
    "                      \n",
    "BDalunos=lerDataset(\"alunos.csv\")\n",
    "print(BDalunos)"
   ]
  },
  {
   "cell_type": "code",
   "execution_count": 2,
   "id": "4e6c5397",
   "metadata": {
    "scrolled": true
   },
   "outputs": [
    {
     "name": "stdout",
     "output_type": "stream",
     "text": [
      "   id     |    nome   |    curso    |    média   \n",
      "_________________________________________________\n",
      "\"a1\"  |  \"Aysha Melanie Gilberto\"   |   \"LEI\"   |   11.75\n",
      "\"a2\"  |  \"Igor André Cantanhede\"   |   \"ENGFIS\"   |   16.5\n",
      "\"a3\"  |  \"Laurénio Narciso\"   |   \"ENGFIS\"   |   12.75\n",
      "\"a4\"  |  \"Jasnoor Casegas\"   |   \"LCC\"   |   15.5\n",
      "\"a5\"  |  \"Tawseef Rebouças\"   |   \"ENGBIOM\"   |   14.25\n",
      "\"a6\"  |  \"Eryk Clementino\"   |   \"LEI\"   |   13.5\n",
      "\"a7\"  |  \"Ianna Noivo\"   |   \"ENGBIOM\"   |   15.75\n",
      "\"a8\"  |  \"Ayla Thaissa Reina\"   |   \"ENGBIOM\"   |   11.5\n",
      "\"a9\"  |  \"Cássia Viviane Coitã\"   |   \"ENGFIS\"   |   13.0\n",
      "\"a10\"  |  \"Koby Vindima\"   |   \"LEI\"   |   14.0\n",
      "\"a11\"  |  \"Gustavo Martim Hernandez\"   |   \"ENGBIOM\"   |   11.0\n",
      "\"a12\"  |  \"Siddarta Beiriz\"   |   \"LEI\"   |   14.75\n",
      "\"a13\"  |  \"Daniela Patrícia Montes\"   |   \"ENGBIOM\"   |   16.75\n",
      "\"a14\"  |  \"Kaylla Pessego\"   |   \"LCC\"   |   14.0\n",
      "\"a15\"  |  \"Bianca Cristina Primitivo\"   |   \"ENGBIOM\"   |   13.25\n",
      "\"a16\"  |  \"Magna Galhardo\"   |   \"ENGFIS\"   |   15.25\n",
      "\"a17\"  |  \"Grace Isabel Patriarca\"   |   \"LCC\"   |   12.75\n",
      "\"a18\"  |  \"Saubhagya Buco\"   |   \"LEI\"   |   15.25\n",
      "\"a19\"  |  \"Ivo Vicente Boisa\"   |   \"ENGBIOM\"   |   13.75\n",
      "\"a20\"  |  \"Vivaan Castilhos\"   |   \"ENGFIS\"   |   13.0\n",
      "\"a21\"  |  \"Layana Camejo\"   |   \"ENGFIS\"   |   14.75\n",
      "\"a22\"  |  \"Mahdi Menoita\"   |   \"ENGFIS\"   |   12.75\n",
      "\"a23\"  |  \"Yifan Cortinado\"   |   \"LEI\"   |   15.25\n",
      "\"a24\"  |  \"Éder Sodré\"   |   \"ENGFIS\"   |   14.0\n",
      "\"a25\"  |  \"Dhriti Magano\"   |   \"ENGFIS\"   |   14.25\n",
      "\"a26\"  |  \"Steve Devesa\"   |   \"ENGBIOM\"   |   11.75\n",
      "\"a27\"  |  \"Lisandro Mariano Picassinos\"   |   \"ENGFIS\"   |   12.25\n",
      "\"a28\"  |  \"Itiel Quinoy\"   |   \"LEI\"   |   13.25\n",
      "\"a29\"  |  \"Pranika Reimoo\"   |   \"LEI\"   |   14.0\n",
      "\"a30\"  |  \"Manaia Viseu\"   |   \"ENGFIS\"   |   12.75\n",
      "\"a31\"  |  \"Eva Manuel Caio\"   |   \"ENGFIS\"   |   16.0\n",
      "\"a32\"  |  \"Ariane Sofia Foja\"   |   \"LEI\"   |   17.5\n",
      "\"a33\"  |  \"Jaime António Pauseiro\"   |   \"LCC\"   |   12.5\n",
      "\"a34\"  |  \"Tanisha Marzagoo\"   |   \"ENGBIOM\"   |   15.0\n",
      "\"a35\"  |  \"Siyon Anca\"   |   \"LEI\"   |   13.75\n",
      "\"a36\"  |  \"Diana Beatriz Boavista\"   |   \"LCC\"   |   16.5\n",
      "\"a37\"  |  \"Elisiário Saberio\"   |   \"ENGFIS\"   |   16.25\n",
      "\"a38\"  |  \"Maira Brites\"   |   \"ENGFIS\"   |   15.25\n",
      "\"a39\"  |  \"Victória Gabriela Incenso\"   |   \"LEI\"   |   13.0\n",
      "\"a40\"  |  \"Najua Serôdio\"   |   \"LCC\"   |   15.0\n",
      "\"a41\"  |  \"Lachezar Rosas\"   |   \"ENGBIOM\"   |   16.75\n",
      "\"a42\"  |  \"Kattleya Trigueiro\"   |   \"ENGFIS\"   |   16.0\n",
      "\"a43\"  |  \"Tatiana Guiomar Maricoto\"   |   \"LCC\"   |   13.25\n",
      "\"a44\"  |  \"Mélanie Daniela Bugalhão\"   |   \"LCC\"   |   15.25\n",
      "\"a45\"  |  \"Imayame Hespanha\"   |   \"ENGFIS\"   |   16.75\n",
      "\"a46\"  |  \"Yuri Gabriel Baganha\"   |   \"LCC\"   |   15.25\n",
      "\"a47\"  |  \"Moisés João Cornelio\"   |   \"LEI\"   |   18.0\n",
      "\"a48\"  |  \"Nazir Assif Trinta\"   |   \"LEI\"   |   12.0\n",
      "\"a49\"  |  \"Karamjot Arezes\"   |   \"LEI\"   |   12.75\n",
      "\"a50\"  |  \"Rishit Justa\"   |   \"ENGBIOM\"   |   9.75\n",
      "\"a51\"  |  \"Iara de Jesus Gonçalo\"   |   \"ENGFIS\"   |   12.0\n",
      "\"a52\"  |  \"Stepfan Owusu Lercas\"   |   \"LEI\"   |   14.25\n",
      "\"a53\"  |  \"Abner Umbelina\"   |   \"ENGBIOM\"   |   14.75\n",
      "\"a54\"  |  \"Dânia Lucy Montelobo\"   |   \"LEI\"   |   15.75\n",
      "\"a55\"  |  \"Myla Lopez\"   |   \"ENGFIS\"   |   14.5\n",
      "\"a56\"  |  \"Hakeem Brazão\"   |   \"LEI\"   |   17.25\n",
      "\"a57\"  |  \"Quinn Aveiro\"   |   \"ENGBIOM\"   |   13.75\n",
      "\"a58\"  |  \"Etienne Constentino\"   |   \"ENGBIOM\"   |   11.25\n",
      "\"a59\"  |  \"Emanuel Marcos Delfina\"   |   \"LEI\"   |   11.25\n",
      "\"a60\"  |  \"Mariana Catarina Ramalheira\"   |   \"ENGBIOM\"   |   16.5\n",
      "\"a61\"  |  \"Bradley Tabau\"   |   \"LCC\"   |   15.75\n",
      "\"a62\"  |  \"Ahmadou Bamba Calcinha\"   |   \"LCC\"   |   14.25\n",
      "\"a63\"  |  \"Francisco Pedro Derresa\"   |   \"ENGFIS\"   |   14.5\n",
      "\"a64\"  |  \"Gil Miguel Lima\"   |   \"ENGBIOM\"   |   14.25\n",
      "\"a65\"  |  \"Leonor Pedro Carqueijeiro\"   |   \"ENGBIOM\"   |   13.75\n",
      "\"a66\"  |  \"Genrikh Maximovich Vila-Chã\"   |   \"ENGFIS\"   |   12.25\n",
      "\"a67\"  |  \"Mayra Larissa Rolo\"   |   \"LCC\"   |   14.5\n",
      "\"a68\"  |  \"Leandro David Dunhoo\"   |   \"ENGBIOM\"   |   13.75\n",
      "\"a69\"  |  \"Adele Belchior\"   |   \"ENGBIOM\"   |   15.25\n",
      "\"a70\"  |  \"Frantceska Borreca\"   |   \"ENGFIS\"   |   14.0\n",
      "\"a71\"  |  \"Derrick Urias\"   |   \"ENGFIS\"   |   10.75\n",
      "\"a72\"  |  \"Ana Gabriel Quirino\"   |   \"LCC\"   |   13.5\n",
      "\"a73\"  |  \"Carolina Antoo\"   |   \"ENGBIOM\"   |   16.25\n",
      "\"a74\"  |  \"Vânia Sofia Porfirio\"   |   \"ENGBIOM\"   |   17.5\n",
      "\"a75\"  |  \"Dárcio Wosvaldo Tudela\"   |   \"LEI\"   |   13.25\n",
      "\"a76\"  |  \"Zhara Couxão\"   |   \"ENGFIS\"   |   13.0\n",
      "\"a77\"  |  \"Tomé Ferrito\"   |   \"LCC\"   |   14.5\n",
      "\"a78\"  |  \"Iasmin Paloma Chaveiro\"   |   \"LCC\"   |   12.75\n",
      "\"a79\"  |  \"Sadagi Cruto\"   |   \"ENGBIOM\"   |   15.75\n",
      "\"a80\"  |  \"Maria Carolina Josué\"   |   \"ENGFIS\"   |   18.0\n",
      "\"a81\"  |  \"Quaresma Lancastre\"   |   \"ENGBIOM\"   |   15.25\n",
      "\"a82\"  |  \"Evaldir Gervasio\"   |   \"ENGFIS\"   |   14.5\n",
      "\"a83\"  |  \"Dolorinda Adolfo\"   |   \"ENGFIS\"   |   13.75\n",
      "\"a84\"  |  \"Laudário Frasão\"   |   \"LCC\"   |   17.0\n",
      "\"a85\"  |  \"Rómula Jeronimo\"   |   \"ENGFIS\"   |   11.5\n",
      "\"a86\"  |  \"Clésio Rodeiro\"   |   \"LCC\"   |   13.0\n",
      "\"a87\"  |  \"Feliciano José Avis\"   |   \"ENGFIS\"   |   9.75\n",
      "\"a88\"  |  \"Afonso Adriano Marca\"   |   \"ENGBIOM\"   |   12.75\n",
      "\"a89\"  |  \"Victória Miguel Rosete\"   |   \"ENGFIS\"   |   13.0\n",
      "\"a90\"  |  \"Tome Teroso\"   |   \"ENGFIS\"   |   11.25\n",
      "\"a91\"  |  \"Constança Filipa Melado\"   |   \"LEI\"   |   12.5\n",
      "\"a92\"  |  \"Madalena Jesus Alfaiate\"   |   \"LEI\"   |   14.25\n",
      "\"a93\"  |  \"Bivhan Reimbau\"   |   \"LCC\"   |   12.0\n",
      "\"a94\"  |  \"Viviana Sofia Gaspar\"   |   \"ENGBIOM\"   |   16.5\n",
      "\"a95\"  |  \"Íris Soraia Chiote\"   |   \"LEI\"   |   13.75\n",
      "\"a96\"  |  \"Anaïs Sintra\"   |   \"LCC\"   |   14.75\n",
      "\"a97\"  |  \"Salvador Banaca\"   |   \"LCC\"   |   13.25\n",
      "\"a98\"  |  \"Guilherme Matias Almeirão\"   |   \"ENGFIS\"   |   11.5\n",
      "\"a99\"  |  \"Xavier Luís Bulha\"   |   \"ENGFIS\"   |   12.0\n",
      "\"a100\"  |  \"Tude Searas\"   |   \"LEI\"   |   14.75\n"
     ]
    }
   ],
   "source": [
    "# Listagem da informação\n",
    "def listarDataset(bd):\n",
    "    print(\"   id     |    nome   |    curso    |    média   \")\n",
    "    print(\"_________________________________________________\")\n",
    "    for a in bd:\n",
    "        print(a['id'] + '  |  ' +  a['nome']+ '   |   ' + a['curso'] + '   |   ' + str((sum(a['tpc']))/len(a['tpc'])))\n",
    "        \n",
    "        \n",
    "listarDataset(BDalunos)\n",
    "    "
   ]
  },
  {
   "cell_type": "code",
   "execution_count": 3,
   "id": "c75d4b56",
   "metadata": {},
   "outputs": [
    {
     "name": "stdout",
     "output_type": "stream",
     "text": [
      "\"a10\"  |  \"Koby Vindima\"   |   \"LEI\"   |   [9, 14, 20, 13]   |  14.0\n"
     ]
    }
   ],
   "source": [
    "# Consulta de um registo\n",
    "def consultarDataset(bd, id):\n",
    "    for a in bd:\n",
    "        if a['id']== id:\n",
    "            print(a['id'] + '  |  ' +  a['nome']+ '   |   ' + a['curso']  + '   |   ' + str(a['tpc']) + '   |  ' + str((sum(a['tpc']))/len(a['tpc'])))\n",
    "              \n",
    "\n",
    "consultarDataset(BDalunos, '\"a10\"')"
   ]
  },
  {
   "cell_type": "code",
   "execution_count": 4,
   "id": "7519522d",
   "metadata": {},
   "outputs": [
    {
     "name": "stdout",
     "output_type": "stream",
     "text": [
      "\"a47\"  |  \"Moisés João Cornelio\"   |   \"LEI\"   |  18.0\n",
      "\"a80\"  |  \"Maria Carolina Josué\"   |   \"ENGFIS\"   |  18.0\n",
      "\"a32\"  |  \"Ariane Sofia Foja\"   |   \"LEI\"   |  17.5\n",
      "\"a74\"  |  \"Vânia Sofia Porfirio\"   |   \"ENGBIOM\"   |  17.5\n",
      "\"a56\"  |  \"Hakeem Brazão\"   |   \"LEI\"   |  17.25\n",
      "\"a84\"  |  \"Laudário Frasão\"   |   \"LCC\"   |  17.0\n",
      "\"a13\"  |  \"Daniela Patrícia Montes\"   |   \"ENGBIOM\"   |  16.75\n",
      "\"a41\"  |  \"Lachezar Rosas\"   |   \"ENGBIOM\"   |  16.75\n",
      "\"a45\"  |  \"Imayame Hespanha\"   |   \"ENGFIS\"   |  16.75\n",
      "\"a2\"  |  \"Igor André Cantanhede\"   |   \"ENGFIS\"   |  16.5\n"
     ]
    }
   ],
   "source": [
    "def top10(bd):\n",
    "    novaBD=[]\n",
    "    for a in bd:\n",
    "        novoAluno= a\n",
    "        novoAluno['media']= (sum(a['tpc']))/len(a['tpc'])\n",
    "        novaBD.append(novoAluno)\n",
    "    listaOrdenada= sorted(novaBD, key=lambda d: d['media'], reverse=True)\n",
    "    i=0\n",
    "    while i<10:\n",
    "        a=listaOrdenada[i]\n",
    "        print(a['id'] + '  |  ' +  a['nome']+ '   |   ' + a['curso']  + '   |  ' + str(a['media']))\n",
    "        i+=1\n",
    "        \n",
    "        \n",
    "top10(BDalunos)       "
   ]
  },
  {
   "cell_type": "code",
   "execution_count": 5,
   "id": "b06dde52",
   "metadata": {},
   "outputs": [
    {
     "name": "stdout",
     "output_type": "stream",
     "text": [
      "{'\"LEI\"': 23, '\"ENGFIS\"': 32, '\"LCC\"': 20, '\"ENGBIOM\"': 25}\n"
     ]
    }
   ],
   "source": [
    "def distribPorCurso(bd):   \n",
    "    distribuicao={}\n",
    "    for  a in bd:\n",
    "        if a['curso'] in distribuicao.keys():\n",
    "            distribuicao[a['curso']]= distribuicao[a['curso']] + 1\n",
    "        else:\n",
    "            distribuicao[a['curso']]= 1\n",
    "            \n",
    "    return distribuicao\n",
    "\n",
    "mydistrib= distribPorCurso(BDalunos)\n",
    "print(mydistrib)"
   ]
  },
  {
   "cell_type": "code",
   "execution_count": 6,
   "id": "8f8839a2",
   "metadata": {},
   "outputs": [
    {
     "name": "stdout",
     "output_type": "stream",
     "text": [
      "{9.75: 2, 10.75: 1, 11.0: 1, 11.25: 3, 11.5: 3, 11.75: 2, 12.0: 4, 12.25: 2, 12.5: 2, 12.75: 7, 13.0: 6, 13.25: 5, 13.5: 2, 13.75: 7, 14.0: 5, 14.25: 6, 14.5: 5, 14.75: 5, 15.0: 2, 15.25: 8, 15.5: 1, 15.75: 4, 16.0: 2, 16.25: 2, 16.5: 4, 16.75: 3, 17.0: 1, 17.25: 1, 17.5: 2, 18.0: 2}\n"
     ]
    }
   ],
   "source": [
    "def distribPorMedia(bd):\n",
    "    novaBD=[]\n",
    "    for a in bd:\n",
    "        novoAluno= a\n",
    "        novoAluno['media']= (sum(a['tpc']))/len(a['tpc'])\n",
    "        novaBD.append(novoAluno)\n",
    "    listaOrd= sorted(novaBD, key=lambda d: d['media'])\n",
    "    \n",
    "    distribuicao= {}\n",
    "    for a in listaOrd:\n",
    "        if a['media'] in distribuicao.keys():\n",
    "            distribuicao[a['media']] +=1\n",
    "        else:\n",
    "            distribuicao[a['media']]=1\n",
    "            \n",
    "    return distribuicao\n",
    "\n",
    "distribmedia=distribPorMedia(BDalunos)\n",
    "print(distribmedia)"
   ]
  },
  {
   "cell_type": "code",
   "execution_count": 7,
   "id": "2e09a2d6",
   "metadata": {},
   "outputs": [
    {
     "data": {
      "image/png": "[encoded data removed]",
      "text/plain": [
       "<Figure size 432x288 with 1 Axes>"
      ]
     },
     "metadata": {
      "needs_background": "light"
     },
     "output_type": "display_data"
    }
   ],
   "source": [
    "import matplotlib.pyplot as plt\n",
    "\n",
    "def plotDistribPorCurso(bd):\n",
    "    distribuicao=distribPorCurso(bd)\n",
    " \n",
    "    x = list(range(1,len(distribuicao.keys())+1))\n",
    "    y = list(distribuicao.values())\n",
    "\n",
    "    cursos = list(distribuicao.keys())\n",
    "\n",
    "    plt.bar(x, y, tick_label = cursos,\n",
    "            width = 0.8, color = ['blue'])\n",
    "\n",
    "    plt.xlabel('Cursos')\n",
    "    plt.ylabel('Nº alunos')\n",
    "    plt.title('Distribuição por cursos')\n",
    "\n",
    "\n",
    "    plt.show()\n",
    "\n",
    "plotDistribPorCurso(BDalunos)"
   ]
  },
  {
   "cell_type": "code",
   "execution_count": 8,
   "id": "3ceff10a",
   "metadata": {},
   "outputs": [
    {
     "data": {
      "image/png": "[encoded data removed]",
      "text/plain": [
       "<Figure size 432x288 with 1 Axes>"
      ]
     },
     "metadata": {
      "needs_background": "light"
     },
     "output_type": "display_data"
    }
   ],
   "source": [
    "def plotDistribPorMedia(bd):\n",
    "    distribuicao=distribPorMedia(bd)\n",
    " \n",
    "    x = list(range(1,len(distribuicao.keys())+1))\n",
    "    y = list(distribuicao.values())\n",
    "    medias = list(distribuicao.keys())\n",
    "\n",
    "    plt.bar(x, y, tick_label = medias,\n",
    "            width = 0.8, color = ['blue'])\n",
    "\n",
    "    plt.xlabel('Médias')\n",
    "    plt.ylabel('Nº alunos')\n",
    "    plt.title('Distribuição por média')\n",
    "    plt.xticks(rotation=90)\n",
    "\n",
    "\n",
    "    plt.show()\n",
    "\n",
    "plotDistribPorMedia(BDalunos)"
   ]
  },
  {
   "cell_type": "code",
   "execution_count": null,
   "id": "6e1fd629",
   "metadata": {},
   "outputs": [],
   "source": []
  }
 ],
 "metadata": {
  "kernelspec": {
   "display_name": "Python 3",
   "language": "python",
   "name": "python3"
  },
  "language_info": {
   "codemirror_mode": {
    "name": "ipython",
    "version": 3
   },
   "file_extension": ".py",
   "mimetype": "text/x-python",
   "name": "python",
   "nbconvert_exporter": "python",
   "pygments_lexer": "ipython3",
   "version": "3.8.8"
  }
 },
 "nbformat": 4,
 "nbformat_minor": 5
}
